{
  "nbformat": 4,
  "nbformat_minor": 0,
  "metadata": {
    "accelerator": "GPU",
    "colab": {
      "name": "Cópia de Piu nuova versione Detectron2 Tutorial.ipynb",
      "provenance": [],
      "collapsed_sections": [],
      "toc_visible": true
    },
    "kernelspec": {
      "display_name": "Python 3",
      "name": "python3"
    }
  },
  "cells": [
    {
      "cell_type": "markdown",
      "metadata": {
        "id": "QHnVupBBn9eR"
      },
      "source": [
        "# Detectron2 Beginner's Tutorial\n",
        "\n",
        "<img src=\"https://dl.fbaipublicfiles.com/detectron2/Detectron2-Logo-Horz.png\" width=\"500\">\n",
        "\n",
        "Welcome to detectron2! This is the official colab tutorial of detectron2. Here, we will go through some basics usage of detectron2, including the following:\n",
        "* Run inference on images or videos, with an existing detectron2 model\n",
        "* Train a detectron2 model on a new dataset\n",
        "\n",
        "You can make a copy of this tutorial by \"File -> Open in playground mode\" and play with it yourself. __DO NOT__ request access to this tutorial.\n"
      ]
    },
    {
      "cell_type": "markdown",
      "metadata": {
        "id": "vM54r6jlKTII"
      },
      "source": [
        "# Install detectron2"
      ]
    },
    {
      "cell_type": "code",
      "metadata": {
        "colab": {
          "base_uri": "https://localhost:8080/"
        },
        "id": "6rIQulaJ8InQ",
        "outputId": "ef79b838-231f-4d60-df91-9f779751dcfc"
      },
      "source": [
        "!pip install neptune-client\n",
        "!pip install psutil\n",
        "!pip install neptune-contrib\n",
        "!pip install neptune-contrib[all]\n"
      ],
      "execution_count": null,
      "outputs": [
        {
          "output_type": "stream",
          "text": [
            "Requirement already satisfied: neptune-client in /usr/local/lib/python3.6/dist-packages (0.4.125)\n",
            "Requirement already satisfied: pandas in /usr/local/lib/python3.6/dist-packages (from neptune-client) (1.1.4)\n",
            "Requirement already satisfied: PyJWT in /usr/local/lib/python3.6/dist-packages (from neptune-client) (1.7.1)\n",
            "Requirement already satisfied: packaging in /usr/local/lib/python3.6/dist-packages (from neptune-client) (20.4)\n",
            "Requirement already satisfied: click>=7.0 in /usr/local/lib/python3.6/dist-packages (from neptune-client) (7.1.2)\n",
            "Requirement already satisfied: requests>=2.20.0 in /usr/local/lib/python3.6/dist-packages (from neptune-client) (2.23.0)\n",
            "Requirement already satisfied: GitPython>=2.0.8 in /usr/local/lib/python3.6/dist-packages (from neptune-client) (3.1.11)\n",
            "Requirement already satisfied: requests-oauthlib>=1.0.0 in /usr/local/lib/python3.6/dist-packages (from neptune-client) (1.3.0)\n",
            "Requirement already satisfied: bravado in /usr/local/lib/python3.6/dist-packages (from neptune-client) (11.0.2)\n",
            "Requirement already satisfied: py3nvml in /usr/local/lib/python3.6/dist-packages (from neptune-client) (0.2.6)\n",
            "Requirement already satisfied: websocket-client>=0.35.0 in /usr/local/lib/python3.6/dist-packages (from neptune-client) (0.57.0)\n",
            "Requirement already satisfied: six>=1.12.0 in /usr/local/lib/python3.6/dist-packages (from neptune-client) (1.15.0)\n",
            "Requirement already satisfied: Pillow>=1.1.6 in /usr/local/lib/python3.6/dist-packages (from neptune-client) (8.0.1)\n",
            "Requirement already satisfied: future>=0.17.1 in /usr/local/lib/python3.6/dist-packages (from neptune-client) (0.18.2)\n",
            "Requirement already satisfied: oauthlib>=2.1.0 in /usr/local/lib/python3.6/dist-packages (from neptune-client) (3.1.0)\n",
            "Requirement already satisfied: python-dateutil>=2.7.3 in /usr/local/lib/python3.6/dist-packages (from pandas->neptune-client) (2.8.1)\n",
            "Requirement already satisfied: numpy>=1.15.4 in /usr/local/lib/python3.6/dist-packages (from pandas->neptune-client) (1.18.5)\n",
            "Requirement already satisfied: pytz>=2017.2 in /usr/local/lib/python3.6/dist-packages (from pandas->neptune-client) (2018.9)\n",
            "Requirement already satisfied: pyparsing>=2.0.2 in /usr/local/lib/python3.6/dist-packages (from packaging->neptune-client) (2.4.7)\n",
            "Requirement already satisfied: urllib3!=1.25.0,!=1.25.1,<1.26,>=1.21.1 in /usr/local/lib/python3.6/dist-packages (from requests>=2.20.0->neptune-client) (1.24.3)\n",
            "Requirement already satisfied: idna<3,>=2.5 in /usr/local/lib/python3.6/dist-packages (from requests>=2.20.0->neptune-client) (2.10)\n",
            "Requirement already satisfied: certifi>=2017.4.17 in /usr/local/lib/python3.6/dist-packages (from requests>=2.20.0->neptune-client) (2020.6.20)\n",
            "Requirement already satisfied: chardet<4,>=3.0.2 in /usr/local/lib/python3.6/dist-packages (from requests>=2.20.0->neptune-client) (3.0.4)\n",
            "Requirement already satisfied: gitdb<5,>=4.0.1 in /usr/local/lib/python3.6/dist-packages (from GitPython>=2.0.8->neptune-client) (4.0.5)\n",
            "Requirement already satisfied: pyyaml in /usr/local/lib/python3.6/dist-packages (from bravado->neptune-client) (5.1)\n",
            "Requirement already satisfied: typing-extensions in /usr/local/lib/python3.6/dist-packages (from bravado->neptune-client) (3.7.4.3)\n",
            "Requirement already satisfied: simplejson in /usr/local/lib/python3.6/dist-packages (from bravado->neptune-client) (3.17.2)\n",
            "Requirement already satisfied: msgpack in /usr/local/lib/python3.6/dist-packages (from bravado->neptune-client) (1.0.0)\n",
            "Requirement already satisfied: bravado-core>=5.16.1 in /usr/local/lib/python3.6/dist-packages (from bravado->neptune-client) (5.17.0)\n",
            "Requirement already satisfied: monotonic in /usr/local/lib/python3.6/dist-packages (from bravado->neptune-client) (1.5)\n",
            "Requirement already satisfied: xmltodict in /usr/local/lib/python3.6/dist-packages (from py3nvml->neptune-client) (0.12.0)\n",
            "Requirement already satisfied: smmap<4,>=3.0.1 in /usr/local/lib/python3.6/dist-packages (from gitdb<5,>=4.0.1->GitPython>=2.0.8->neptune-client) (3.0.4)\n",
            "Requirement already satisfied: jsonschema[format]>=2.5.1 in /usr/local/lib/python3.6/dist-packages (from bravado-core>=5.16.1->bravado->neptune-client) (2.6.0)\n",
            "Requirement already satisfied: swagger-spec-validator>=2.0.1 in /usr/local/lib/python3.6/dist-packages (from bravado-core>=5.16.1->bravado->neptune-client) (2.7.3)\n",
            "Requirement already satisfied: jsonref in /usr/local/lib/python3.6/dist-packages (from bravado-core>=5.16.1->bravado->neptune-client) (0.2)\n",
            "Requirement already satisfied: webcolors; extra == \"format\" in /usr/local/lib/python3.6/dist-packages (from jsonschema[format]>=2.5.1->bravado-core>=5.16.1->bravado->neptune-client) (1.11.1)\n",
            "Requirement already satisfied: strict-rfc3339; extra == \"format\" in /usr/local/lib/python3.6/dist-packages (from jsonschema[format]>=2.5.1->bravado-core>=5.16.1->bravado->neptune-client) (0.7)\n",
            "Requirement already satisfied: rfc3987; extra == \"format\" in /usr/local/lib/python3.6/dist-packages (from jsonschema[format]>=2.5.1->bravado-core>=5.16.1->bravado->neptune-client) (1.3.8)\n",
            "Requirement already satisfied: psutil in /usr/local/lib/python3.6/dist-packages (5.4.8)\n",
            "Requirement already satisfied: neptune-contrib in /usr/local/lib/python3.6/dist-packages (0.24.8)\n",
            "Requirement already satisfied: matplotlib in /usr/local/lib/python3.6/dist-packages (from neptune-contrib) (3.2.2)\n",
            "Requirement already satisfied: attrdict>=2.0.0 in /usr/local/lib/python3.6/dist-packages (from neptune-contrib) (2.0.1)\n",
            "Requirement already satisfied: neptune-client>=0.4.110 in /usr/local/lib/python3.6/dist-packages (from neptune-contrib) (0.4.125)\n",
            "Requirement already satisfied: joblib>=0.13 in /usr/local/lib/python3.6/dist-packages (from neptune-contrib) (0.17.0)\n",
            "Requirement already satisfied: Pillow>=6.2.0 in /usr/local/lib/python3.6/dist-packages (from neptune-contrib) (8.0.1)\n",
            "Requirement already satisfied: pandas in /usr/local/lib/python3.6/dist-packages (from neptune-contrib) (1.1.4)\n",
            "Requirement already satisfied: cycler>=0.10 in /usr/local/lib/python3.6/dist-packages (from matplotlib->neptune-contrib) (0.10.0)\n",
            "Requirement already satisfied: pyparsing!=2.0.4,!=2.1.2,!=2.1.6,>=2.0.1 in /usr/local/lib/python3.6/dist-packages (from matplotlib->neptune-contrib) (2.4.7)\n",
            "Requirement already satisfied: numpy>=1.11 in /usr/local/lib/python3.6/dist-packages (from matplotlib->neptune-contrib) (1.18.5)\n",
            "Requirement already satisfied: kiwisolver>=1.0.1 in /usr/local/lib/python3.6/dist-packages (from matplotlib->neptune-contrib) (1.3.1)\n",
            "Requirement already satisfied: python-dateutil>=2.1 in /usr/local/lib/python3.6/dist-packages (from matplotlib->neptune-contrib) (2.8.1)\n",
            "Requirement already satisfied: six in /usr/local/lib/python3.6/dist-packages (from attrdict>=2.0.0->neptune-contrib) (1.15.0)\n",
            "Requirement already satisfied: GitPython>=2.0.8 in /usr/local/lib/python3.6/dist-packages (from neptune-client>=0.4.110->neptune-contrib) (3.1.11)\n",
            "Requirement already satisfied: click>=7.0 in /usr/local/lib/python3.6/dist-packages (from neptune-client>=0.4.110->neptune-contrib) (7.1.2)\n",
            "Requirement already satisfied: requests>=2.20.0 in /usr/local/lib/python3.6/dist-packages (from neptune-client>=0.4.110->neptune-contrib) (2.23.0)\n",
            "Requirement already satisfied: oauthlib>=2.1.0 in /usr/local/lib/python3.6/dist-packages (from neptune-client>=0.4.110->neptune-contrib) (3.1.0)\n",
            "Requirement already satisfied: requests-oauthlib>=1.0.0 in /usr/local/lib/python3.6/dist-packages (from neptune-client>=0.4.110->neptune-contrib) (1.3.0)\n",
            "Requirement already satisfied: bravado in /usr/local/lib/python3.6/dist-packages (from neptune-client>=0.4.110->neptune-contrib) (11.0.2)\n",
            "Requirement already satisfied: PyJWT in /usr/local/lib/python3.6/dist-packages (from neptune-client>=0.4.110->neptune-contrib) (1.7.1)\n",
            "Requirement already satisfied: websocket-client>=0.35.0 in /usr/local/lib/python3.6/dist-packages (from neptune-client>=0.4.110->neptune-contrib) (0.57.0)\n",
            "Requirement already satisfied: packaging in /usr/local/lib/python3.6/dist-packages (from neptune-client>=0.4.110->neptune-contrib) (20.4)\n",
            "Requirement already satisfied: py3nvml in /usr/local/lib/python3.6/dist-packages (from neptune-client>=0.4.110->neptune-contrib) (0.2.6)\n",
            "Requirement already satisfied: future>=0.17.1 in /usr/local/lib/python3.6/dist-packages (from neptune-client>=0.4.110->neptune-contrib) (0.18.2)\n",
            "Requirement already satisfied: pytz>=2017.2 in /usr/local/lib/python3.6/dist-packages (from pandas->neptune-contrib) (2018.9)\n",
            "Requirement already satisfied: gitdb<5,>=4.0.1 in /usr/local/lib/python3.6/dist-packages (from GitPython>=2.0.8->neptune-client>=0.4.110->neptune-contrib) (4.0.5)\n",
            "Requirement already satisfied: certifi>=2017.4.17 in /usr/local/lib/python3.6/dist-packages (from requests>=2.20.0->neptune-client>=0.4.110->neptune-contrib) (2020.6.20)\n",
            "Requirement already satisfied: idna<3,>=2.5 in /usr/local/lib/python3.6/dist-packages (from requests>=2.20.0->neptune-client>=0.4.110->neptune-contrib) (2.10)\n",
            "Requirement already satisfied: chardet<4,>=3.0.2 in /usr/local/lib/python3.6/dist-packages (from requests>=2.20.0->neptune-client>=0.4.110->neptune-contrib) (3.0.4)\n",
            "Requirement already satisfied: urllib3!=1.25.0,!=1.25.1,<1.26,>=1.21.1 in /usr/local/lib/python3.6/dist-packages (from requests>=2.20.0->neptune-client>=0.4.110->neptune-contrib) (1.24.3)\n",
            "Requirement already satisfied: typing-extensions in /usr/local/lib/python3.6/dist-packages (from bravado->neptune-client>=0.4.110->neptune-contrib) (3.7.4.3)\n",
            "Requirement already satisfied: monotonic in /usr/local/lib/python3.6/dist-packages (from bravado->neptune-client>=0.4.110->neptune-contrib) (1.5)\n",
            "Requirement already satisfied: pyyaml in /usr/local/lib/python3.6/dist-packages (from bravado->neptune-client>=0.4.110->neptune-contrib) (5.1)\n",
            "Requirement already satisfied: simplejson in /usr/local/lib/python3.6/dist-packages (from bravado->neptune-client>=0.4.110->neptune-contrib) (3.17.2)\n",
            "Requirement already satisfied: bravado-core>=5.16.1 in /usr/local/lib/python3.6/dist-packages (from bravado->neptune-client>=0.4.110->neptune-contrib) (5.17.0)\n",
            "Requirement already satisfied: msgpack in /usr/local/lib/python3.6/dist-packages (from bravado->neptune-client>=0.4.110->neptune-contrib) (1.0.0)\n",
            "Requirement already satisfied: xmltodict in /usr/local/lib/python3.6/dist-packages (from py3nvml->neptune-client>=0.4.110->neptune-contrib) (0.12.0)\n",
            "Requirement already satisfied: smmap<4,>=3.0.1 in /usr/local/lib/python3.6/dist-packages (from gitdb<5,>=4.0.1->GitPython>=2.0.8->neptune-client>=0.4.110->neptune-contrib) (3.0.4)\n",
            "Requirement already satisfied: jsonref in /usr/local/lib/python3.6/dist-packages (from bravado-core>=5.16.1->bravado->neptune-client>=0.4.110->neptune-contrib) (0.2)\n",
            "Requirement already satisfied: swagger-spec-validator>=2.0.1 in /usr/local/lib/python3.6/dist-packages (from bravado-core>=5.16.1->bravado->neptune-client>=0.4.110->neptune-contrib) (2.7.3)\n",
            "Requirement already satisfied: jsonschema[format]>=2.5.1 in /usr/local/lib/python3.6/dist-packages (from bravado-core>=5.16.1->bravado->neptune-client>=0.4.110->neptune-contrib) (2.6.0)\n",
            "Requirement already satisfied: webcolors; extra == \"format\" in /usr/local/lib/python3.6/dist-packages (from jsonschema[format]>=2.5.1->bravado-core>=5.16.1->bravado->neptune-client>=0.4.110->neptune-contrib) (1.11.1)\n",
            "Requirement already satisfied: strict-rfc3339; extra == \"format\" in /usr/local/lib/python3.6/dist-packages (from jsonschema[format]>=2.5.1->bravado-core>=5.16.1->bravado->neptune-client>=0.4.110->neptune-contrib) (0.7)\n",
            "Requirement already satisfied: rfc3987; extra == \"format\" in /usr/local/lib/python3.6/dist-packages (from jsonschema[format]>=2.5.1->bravado-core>=5.16.1->bravado->neptune-client>=0.4.110->neptune-contrib) (1.3.8)\n",
            "Requirement already satisfied: neptune-contrib[all] in /usr/local/lib/python3.6/dist-packages (0.24.8)\n",
            "Requirement already satisfied: Pillow>=6.2.0 in /usr/local/lib/python3.6/dist-packages (from neptune-contrib[all]) (8.0.1)\n",
            "Requirement already satisfied: joblib>=0.13 in /usr/local/lib/python3.6/dist-packages (from neptune-contrib[all]) (0.17.0)\n",
            "Requirement already satisfied: attrdict>=2.0.0 in /usr/local/lib/python3.6/dist-packages (from neptune-contrib[all]) (2.0.1)\n",
            "Requirement already satisfied: matplotlib in /usr/local/lib/python3.6/dist-packages (from neptune-contrib[all]) (3.2.2)\n",
            "Requirement already satisfied: neptune-client>=0.4.110 in /usr/local/lib/python3.6/dist-packages (from neptune-contrib[all]) (0.4.125)\n",
            "Requirement already satisfied: pandas in /usr/local/lib/python3.6/dist-packages (from neptune-contrib[all]) (1.1.4)\n",
            "Requirement already satisfied: scikit-learn>=0.21.3; extra == \"all\" in /usr/local/lib/python3.6/dist-packages (from neptune-contrib[all]) (0.22.2.post1)\n",
            "Requirement already satisfied: scipy; extra == \"all\" in /usr/local/lib/python3.6/dist-packages (from neptune-contrib[all]) (1.4.1)\n",
            "Requirement already satisfied: scikit-plot>=0.3.7; extra == \"all\" in /usr/local/lib/python3.6/dist-packages (from neptune-contrib[all]) (0.3.7)\n",
            "Requirement already satisfied: hiplot>=0.1.5; extra == \"all\" in /usr/local/lib/python3.6/dist-packages (from neptune-contrib[all]) (0.1.19)\n",
            "Requirement already satisfied: sacred>=0.7.5; extra == \"all\" in /usr/local/lib/python3.6/dist-packages (from neptune-contrib[all]) (0.8.1)\n",
            "Requirement already satisfied: scikit-optimize>=0.7.4; extra == \"all\" in /usr/local/lib/python3.6/dist-packages (from neptune-contrib[all]) (0.8.1)\n",
            "Requirement already satisfied: aif360>=0.2.1; extra == \"all\" in /usr/local/lib/python3.6/dist-packages (from neptune-contrib[all]) (0.3.0)\n",
            "Requirement already satisfied: altair>=2.3.0; extra == \"all\" in /usr/local/lib/python3.6/dist-packages (from neptune-contrib[all]) (4.1.0)\n",
            "Requirement already satisfied: xgboost>=0.82; extra == \"all\" in /usr/local/lib/python3.6/dist-packages (from neptune-contrib[all]) (0.90)\n",
            "Requirement already satisfied: boto3; extra == \"all\" in /usr/local/lib/python3.6/dist-packages (from neptune-contrib[all]) (1.16.23)\n",
            "Requirement already satisfied: numpy; extra == \"all\" in /usr/local/lib/python3.6/dist-packages (from neptune-contrib[all]) (1.18.5)\n",
            "Requirement already satisfied: python-telegram-bot; extra == \"all\" in /usr/local/lib/python3.6/dist-packages (from neptune-contrib[all]) (13.0)\n",
            "Requirement already satisfied: seaborn>=0.8.1; extra == \"all\" in /usr/local/lib/python3.6/dist-packages (from neptune-contrib[all]) (0.11.0)\n",
            "Requirement already satisfied: six in /usr/local/lib/python3.6/dist-packages (from attrdict>=2.0.0->neptune-contrib[all]) (1.15.0)\n",
            "Requirement already satisfied: python-dateutil>=2.1 in /usr/local/lib/python3.6/dist-packages (from matplotlib->neptune-contrib[all]) (2.8.1)\n",
            "Requirement already satisfied: pyparsing!=2.0.4,!=2.1.2,!=2.1.6,>=2.0.1 in /usr/local/lib/python3.6/dist-packages (from matplotlib->neptune-contrib[all]) (2.4.7)\n",
            "Requirement already satisfied: cycler>=0.10 in /usr/local/lib/python3.6/dist-packages (from matplotlib->neptune-contrib[all]) (0.10.0)\n",
            "Requirement already satisfied: kiwisolver>=1.0.1 in /usr/local/lib/python3.6/dist-packages (from matplotlib->neptune-contrib[all]) (1.3.1)\n",
            "Requirement already satisfied: py3nvml in /usr/local/lib/python3.6/dist-packages (from neptune-client>=0.4.110->neptune-contrib[all]) (0.2.6)\n",
            "Requirement already satisfied: GitPython>=2.0.8 in /usr/local/lib/python3.6/dist-packages (from neptune-client>=0.4.110->neptune-contrib[all]) (3.1.11)\n",
            "Requirement already satisfied: bravado in /usr/local/lib/python3.6/dist-packages (from neptune-client>=0.4.110->neptune-contrib[all]) (11.0.2)\n",
            "Requirement already satisfied: click>=7.0 in /usr/local/lib/python3.6/dist-packages (from neptune-client>=0.4.110->neptune-contrib[all]) (7.1.2)\n",
            "Requirement already satisfied: packaging in /usr/local/lib/python3.6/dist-packages (from neptune-client>=0.4.110->neptune-contrib[all]) (20.4)\n",
            "Requirement already satisfied: PyJWT in /usr/local/lib/python3.6/dist-packages (from neptune-client>=0.4.110->neptune-contrib[all]) (1.7.1)\n",
            "Requirement already satisfied: requests-oauthlib>=1.0.0 in /usr/local/lib/python3.6/dist-packages (from neptune-client>=0.4.110->neptune-contrib[all]) (1.3.0)\n",
            "Requirement already satisfied: websocket-client>=0.35.0 in /usr/local/lib/python3.6/dist-packages (from neptune-client>=0.4.110->neptune-contrib[all]) (0.57.0)\n",
            "Requirement already satisfied: requests>=2.20.0 in /usr/local/lib/python3.6/dist-packages (from neptune-client>=0.4.110->neptune-contrib[all]) (2.23.0)\n",
            "Requirement already satisfied: oauthlib>=2.1.0 in /usr/local/lib/python3.6/dist-packages (from neptune-client>=0.4.110->neptune-contrib[all]) (3.1.0)\n",
            "Requirement already satisfied: future>=0.17.1 in /usr/local/lib/python3.6/dist-packages (from neptune-client>=0.4.110->neptune-contrib[all]) (0.18.2)\n",
            "Requirement already satisfied: pytz>=2017.2 in /usr/local/lib/python3.6/dist-packages (from pandas->neptune-contrib[all]) (2018.9)\n",
            "Requirement already satisfied: ipython>=7.0.1 in /usr/local/lib/python3.6/dist-packages (from hiplot>=0.1.5; extra == \"all\"->neptune-contrib[all]) (7.16.1)\n",
            "Requirement already satisfied: flask-compress in /usr/local/lib/python3.6/dist-packages (from hiplot>=0.1.5; extra == \"all\"->neptune-contrib[all]) (1.8.0)\n",
            "Requirement already satisfied: beautifulsoup4 in /usr/local/lib/python3.6/dist-packages (from hiplot>=0.1.5; extra == \"all\"->neptune-contrib[all]) (4.6.3)\n",
            "Requirement already satisfied: flask in /usr/local/lib/python3.6/dist-packages (from hiplot>=0.1.5; extra == \"all\"->neptune-contrib[all]) (1.1.2)\n",
            "Requirement already satisfied: jsonpickle<2.0,>=1.2 in /usr/local/lib/python3.6/dist-packages (from sacred>=0.7.5; extra == \"all\"->neptune-contrib[all]) (1.4.1)\n",
            "Requirement already satisfied: docopt<1.0,>=0.3 in /usr/local/lib/python3.6/dist-packages (from sacred>=0.7.5; extra == \"all\"->neptune-contrib[all]) (0.6.2)\n",
            "Requirement already satisfied: munch<3.0,>=2.0.2 in /usr/local/lib/python3.6/dist-packages (from sacred>=0.7.5; extra == \"all\"->neptune-contrib[all]) (2.5.0)\n",
            "Requirement already satisfied: colorama>=0.4 in /usr/local/lib/python3.6/dist-packages (from sacred>=0.7.5; extra == \"all\"->neptune-contrib[all]) (0.4.4)\n",
            "Requirement already satisfied: wrapt<2.0,>=1.0 in /usr/local/lib/python3.6/dist-packages (from sacred>=0.7.5; extra == \"all\"->neptune-contrib[all]) (1.12.1)\n",
            "Requirement already satisfied: py-cpuinfo>=4.0 in /usr/local/lib/python3.6/dist-packages (from sacred>=0.7.5; extra == \"all\"->neptune-contrib[all]) (7.0.0)\n",
            "Requirement already satisfied: pyaml>=16.9 in /usr/local/lib/python3.6/dist-packages (from scikit-optimize>=0.7.4; extra == \"all\"->neptune-contrib[all]) (20.4.0)\n",
            "Requirement already satisfied: jsonschema in /usr/local/lib/python3.6/dist-packages (from altair>=2.3.0; extra == \"all\"->neptune-contrib[all]) (2.6.0)\n",
            "Requirement already satisfied: jinja2 in /usr/local/lib/python3.6/dist-packages (from altair>=2.3.0; extra == \"all\"->neptune-contrib[all]) (2.11.2)\n",
            "Requirement already satisfied: entrypoints in /usr/local/lib/python3.6/dist-packages (from altair>=2.3.0; extra == \"all\"->neptune-contrib[all]) (0.3)\n",
            "Requirement already satisfied: toolz in /usr/local/lib/python3.6/dist-packages (from altair>=2.3.0; extra == \"all\"->neptune-contrib[all]) (0.11.1)\n",
            "Requirement already satisfied: botocore<1.20.0,>=1.19.23 in /usr/local/lib/python3.6/dist-packages (from boto3; extra == \"all\"->neptune-contrib[all]) (1.19.23)\n",
            "Requirement already satisfied: s3transfer<0.4.0,>=0.3.0 in /usr/local/lib/python3.6/dist-packages (from boto3; extra == \"all\"->neptune-contrib[all]) (0.3.3)\n",
            "Requirement already satisfied: jmespath<1.0.0,>=0.7.1 in /usr/local/lib/python3.6/dist-packages (from boto3; extra == \"all\"->neptune-contrib[all]) (0.10.0)\n",
            "Requirement already satisfied: decorator>=4.4.0 in /usr/local/lib/python3.6/dist-packages (from python-telegram-bot; extra == \"all\"->neptune-contrib[all]) (4.4.2)\n",
            "Requirement already satisfied: cryptography in /usr/local/lib/python3.6/dist-packages (from python-telegram-bot; extra == \"all\"->neptune-contrib[all]) (3.2.1)\n",
            "Requirement already satisfied: tornado>=5.1 in /usr/local/lib/python3.6/dist-packages (from python-telegram-bot; extra == \"all\"->neptune-contrib[all]) (5.1.1)\n",
            "Requirement already satisfied: APScheduler==3.6.3 in /usr/local/lib/python3.6/dist-packages (from python-telegram-bot; extra == \"all\"->neptune-contrib[all]) (3.6.3)\n",
            "Requirement already satisfied: certifi in /usr/local/lib/python3.6/dist-packages (from python-telegram-bot; extra == \"all\"->neptune-contrib[all]) (2020.6.20)\n",
            "Requirement already satisfied: xmltodict in /usr/local/lib/python3.6/dist-packages (from py3nvml->neptune-client>=0.4.110->neptune-contrib[all]) (0.12.0)\n",
            "Requirement already satisfied: gitdb<5,>=4.0.1 in /usr/local/lib/python3.6/dist-packages (from GitPython>=2.0.8->neptune-client>=0.4.110->neptune-contrib[all]) (4.0.5)\n",
            "Requirement already satisfied: pyyaml in /usr/local/lib/python3.6/dist-packages (from bravado->neptune-client>=0.4.110->neptune-contrib[all]) (5.1)\n",
            "Requirement already satisfied: msgpack in /usr/local/lib/python3.6/dist-packages (from bravado->neptune-client>=0.4.110->neptune-contrib[all]) (1.0.0)\n",
            "Requirement already satisfied: monotonic in /usr/local/lib/python3.6/dist-packages (from bravado->neptune-client>=0.4.110->neptune-contrib[all]) (1.5)\n",
            "Requirement already satisfied: bravado-core>=5.16.1 in /usr/local/lib/python3.6/dist-packages (from bravado->neptune-client>=0.4.110->neptune-contrib[all]) (5.17.0)\n",
            "Requirement already satisfied: typing-extensions in /usr/local/lib/python3.6/dist-packages (from bravado->neptune-client>=0.4.110->neptune-contrib[all]) (3.7.4.3)\n",
            "Requirement already satisfied: simplejson in /usr/local/lib/python3.6/dist-packages (from bravado->neptune-client>=0.4.110->neptune-contrib[all]) (3.17.2)\n",
            "Requirement already satisfied: chardet<4,>=3.0.2 in /usr/local/lib/python3.6/dist-packages (from requests>=2.20.0->neptune-client>=0.4.110->neptune-contrib[all]) (3.0.4)\n",
            "Requirement already satisfied: urllib3!=1.25.0,!=1.25.1,<1.26,>=1.21.1 in /usr/local/lib/python3.6/dist-packages (from requests>=2.20.0->neptune-client>=0.4.110->neptune-contrib[all]) (1.24.3)\n",
            "Requirement already satisfied: idna<3,>=2.5 in /usr/local/lib/python3.6/dist-packages (from requests>=2.20.0->neptune-client>=0.4.110->neptune-contrib[all]) (2.10)\n",
            "Requirement already satisfied: setuptools>=18.5 in /usr/local/lib/python3.6/dist-packages (from ipython>=7.0.1->hiplot>=0.1.5; extra == \"all\"->neptune-contrib[all]) (50.3.2)\n",
            "Requirement already satisfied: prompt-toolkit!=3.0.0,!=3.0.1,<3.1.0,>=2.0.0 in /usr/local/lib/python3.6/dist-packages (from ipython>=7.0.1->hiplot>=0.1.5; extra == \"all\"->neptune-contrib[all]) (3.0.8)\n",
            "Requirement already satisfied: pexpect; sys_platform != \"win32\" in /usr/local/lib/python3.6/dist-packages (from ipython>=7.0.1->hiplot>=0.1.5; extra == \"all\"->neptune-contrib[all]) (4.8.0)\n",
            "Requirement already satisfied: backcall in /usr/local/lib/python3.6/dist-packages (from ipython>=7.0.1->hiplot>=0.1.5; extra == \"all\"->neptune-contrib[all]) (0.2.0)\n",
            "Requirement already satisfied: traitlets>=4.2 in /usr/local/lib/python3.6/dist-packages (from ipython>=7.0.1->hiplot>=0.1.5; extra == \"all\"->neptune-contrib[all]) (4.3.3)\n",
            "Requirement already satisfied: jedi>=0.10 in /usr/local/lib/python3.6/dist-packages (from ipython>=7.0.1->hiplot>=0.1.5; extra == \"all\"->neptune-contrib[all]) (0.17.2)\n",
            "Requirement already satisfied: pickleshare in /usr/local/lib/python3.6/dist-packages (from ipython>=7.0.1->hiplot>=0.1.5; extra == \"all\"->neptune-contrib[all]) (0.7.5)\n",
            "Requirement already satisfied: pygments in /usr/local/lib/python3.6/dist-packages (from ipython>=7.0.1->hiplot>=0.1.5; extra == \"all\"->neptune-contrib[all]) (2.6.1)\n",
            "Requirement already satisfied: brotli in /usr/local/lib/python3.6/dist-packages (from flask-compress->hiplot>=0.1.5; extra == \"all\"->neptune-contrib[all]) (1.0.9)\n",
            "Requirement already satisfied: itsdangerous>=0.24 in /usr/local/lib/python3.6/dist-packages (from flask->hiplot>=0.1.5; extra == \"all\"->neptune-contrib[all]) (1.1.0)\n",
            "Requirement already satisfied: Werkzeug>=0.15 in /usr/local/lib/python3.6/dist-packages (from flask->hiplot>=0.1.5; extra == \"all\"->neptune-contrib[all]) (1.0.1)\n",
            "Requirement already satisfied: importlib-metadata in /usr/local/lib/python3.6/dist-packages (from jsonpickle<2.0,>=1.2->sacred>=0.7.5; extra == \"all\"->neptune-contrib[all]) (2.0.0)\n",
            "Requirement already satisfied: MarkupSafe>=0.23 in /usr/local/lib/python3.6/dist-packages (from jinja2->altair>=2.3.0; extra == \"all\"->neptune-contrib[all]) (1.1.1)\n",
            "Requirement already satisfied: cffi!=1.11.3,>=1.8 in /usr/local/lib/python3.6/dist-packages (from cryptography->python-telegram-bot; extra == \"all\"->neptune-contrib[all]) (1.14.3)\n",
            "Requirement already satisfied: tzlocal>=1.2 in /usr/local/lib/python3.6/dist-packages (from APScheduler==3.6.3->python-telegram-bot; extra == \"all\"->neptune-contrib[all]) (1.5.1)\n",
            "Requirement already satisfied: smmap<4,>=3.0.1 in /usr/local/lib/python3.6/dist-packages (from gitdb<5,>=4.0.1->GitPython>=2.0.8->neptune-client>=0.4.110->neptune-contrib[all]) (3.0.4)\n",
            "Requirement already satisfied: jsonref in /usr/local/lib/python3.6/dist-packages (from bravado-core>=5.16.1->bravado->neptune-client>=0.4.110->neptune-contrib[all]) (0.2)\n",
            "Requirement already satisfied: swagger-spec-validator>=2.0.1 in /usr/local/lib/python3.6/dist-packages (from bravado-core>=5.16.1->bravado->neptune-client>=0.4.110->neptune-contrib[all]) (2.7.3)\n",
            "Requirement already satisfied: wcwidth in /usr/local/lib/python3.6/dist-packages (from prompt-toolkit!=3.0.0,!=3.0.1,<3.1.0,>=2.0.0->ipython>=7.0.1->hiplot>=0.1.5; extra == \"all\"->neptune-contrib[all]) (0.2.5)\n",
            "Requirement already satisfied: ptyprocess>=0.5 in /usr/local/lib/python3.6/dist-packages (from pexpect; sys_platform != \"win32\"->ipython>=7.0.1->hiplot>=0.1.5; extra == \"all\"->neptune-contrib[all]) (0.6.0)\n",
            "Requirement already satisfied: ipython-genutils in /usr/local/lib/python3.6/dist-packages (from traitlets>=4.2->ipython>=7.0.1->hiplot>=0.1.5; extra == \"all\"->neptune-contrib[all]) (0.2.0)\n",
            "Requirement already satisfied: parso<0.8.0,>=0.7.0 in /usr/local/lib/python3.6/dist-packages (from jedi>=0.10->ipython>=7.0.1->hiplot>=0.1.5; extra == \"all\"->neptune-contrib[all]) (0.7.1)\n",
            "Requirement already satisfied: zipp>=0.5 in /usr/local/lib/python3.6/dist-packages (from importlib-metadata->jsonpickle<2.0,>=1.2->sacred>=0.7.5; extra == \"all\"->neptune-contrib[all]) (3.4.0)\n",
            "Requirement already satisfied: pycparser in /usr/local/lib/python3.6/dist-packages (from cffi!=1.11.3,>=1.8->cryptography->python-telegram-bot; extra == \"all\"->neptune-contrib[all]) (2.20)\n"
          ],
          "name": "stdout"
        }
      ]
    },
    {
      "cell_type": "code",
      "metadata": {
        "id": "9Mljqws1-MmW"
      },
      "source": [
        ""
      ],
      "execution_count": null,
      "outputs": []
    },
    {
      "cell_type": "code",
      "metadata": {
        "colab": {
          "base_uri": "https://localhost:8080/"
        },
        "id": "9_FzH13EjseR",
        "outputId": "a720132a-cb65-42fc-89a4-0e37986d670e"
      },
      "source": [
        "# install dependencies: \n",
        "!pip install pyyaml==5.1\n",
        "import torch, torchvision\n",
        "print(torch.__version__, torch.cuda.is_available())\n",
        "!gcc --version\n",
        "# opencv is pre-installed on colab"
      ],
      "execution_count": null,
      "outputs": [
        {
          "output_type": "stream",
          "text": [
            "Requirement already satisfied: pyyaml==5.1 in /usr/local/lib/python3.6/dist-packages (5.1)\n",
            "1.7.0+cu101 True\n",
            "gcc (Ubuntu 7.5.0-3ubuntu1~18.04) 7.5.0\n",
            "Copyright (C) 2017 Free Software Foundation, Inc.\n",
            "This is free software; see the source for copying conditions.  There is NO\n",
            "warranty; not even for MERCHANTABILITY or FITNESS FOR A PARTICULAR PURPOSE.\n",
            "\n"
          ],
          "name": "stdout"
        }
      ]
    },
    {
      "cell_type": "code",
      "metadata": {
        "colab": {
          "base_uri": "https://localhost:8080/"
        },
        "id": "b-i4hmGYk1dL",
        "outputId": "e56582fe-9f23-4a64-b655-a5447016e5e9"
      },
      "source": [
        "# install detectron2: (Colab has CUDA 10.1 + torch 1.7)\n",
        "# See https://detectron2.readthedocs.io/tutorials/install.html for instructions\n",
        "import torch\n",
        "assert torch.__version__.startswith(\"1.7\")\n",
        "!pip install detectron2 -f https://dl.fbaipublicfiles.com/detectron2/wheels/cu101/torch1.7/index.html\n",
        "# exit(0)  # After installation, you need to \"restart runtime\" in Colab. This line can also restart runtime"
      ],
      "execution_count": null,
      "outputs": [
        {
          "output_type": "stream",
          "text": [
            "Looking in links: https://dl.fbaipublicfiles.com/detectron2/wheels/cu101/torch1.7/index.html\n",
            "Requirement already satisfied: detectron2 in /usr/local/lib/python3.6/dist-packages (0.3+cu101)\n",
            "Requirement already satisfied: cloudpickle in /usr/local/lib/python3.6/dist-packages (from detectron2) (1.3.0)\n",
            "Requirement already satisfied: matplotlib in /usr/local/lib/python3.6/dist-packages (from detectron2) (3.2.2)\n",
            "Requirement already satisfied: termcolor>=1.1 in /usr/local/lib/python3.6/dist-packages (from detectron2) (1.1.0)\n",
            "Requirement already satisfied: tqdm>4.29.0 in /usr/local/lib/python3.6/dist-packages (from detectron2) (4.41.1)\n",
            "Requirement already satisfied: fvcore>=0.1.2 in /usr/local/lib/python3.6/dist-packages (from detectron2) (0.1.2.post20201122)\n",
            "Requirement already satisfied: tabulate in /usr/local/lib/python3.6/dist-packages (from detectron2) (0.8.7)\n",
            "Requirement already satisfied: pycocotools>=2.0.2 in /usr/local/lib/python3.6/dist-packages (from detectron2) (2.0.2)\n",
            "Requirement already satisfied: pydot in /usr/local/lib/python3.6/dist-packages (from detectron2) (1.3.0)\n",
            "Requirement already satisfied: tensorboard in /usr/local/lib/python3.6/dist-packages (from detectron2) (2.3.0)\n",
            "Requirement already satisfied: Pillow>=7.1 in /usr/local/lib/python3.6/dist-packages (from detectron2) (8.0.1)\n",
            "Requirement already satisfied: yacs>=0.1.6 in /usr/local/lib/python3.6/dist-packages (from detectron2) (0.1.8)\n",
            "Requirement already satisfied: future in /usr/local/lib/python3.6/dist-packages (from detectron2) (0.18.2)\n",
            "Requirement already satisfied: cycler>=0.10 in /usr/local/lib/python3.6/dist-packages (from matplotlib->detectron2) (0.10.0)\n",
            "Requirement already satisfied: pyparsing!=2.0.4,!=2.1.2,!=2.1.6,>=2.0.1 in /usr/local/lib/python3.6/dist-packages (from matplotlib->detectron2) (2.4.7)\n",
            "Requirement already satisfied: python-dateutil>=2.1 in /usr/local/lib/python3.6/dist-packages (from matplotlib->detectron2) (2.8.1)\n",
            "Requirement already satisfied: kiwisolver>=1.0.1 in /usr/local/lib/python3.6/dist-packages (from matplotlib->detectron2) (1.3.1)\n",
            "Requirement already satisfied: numpy>=1.11 in /usr/local/lib/python3.6/dist-packages (from matplotlib->detectron2) (1.18.5)\n",
            "Requirement already satisfied: portalocker in /usr/local/lib/python3.6/dist-packages (from fvcore>=0.1.2->detectron2) (2.0.0)\n",
            "Requirement already satisfied: pyyaml>=5.1 in /usr/local/lib/python3.6/dist-packages (from fvcore>=0.1.2->detectron2) (5.1)\n",
            "Requirement already satisfied: cython>=0.27.3 in /usr/local/lib/python3.6/dist-packages (from pycocotools>=2.0.2->detectron2) (0.29.21)\n",
            "Requirement already satisfied: setuptools>=18.0 in /usr/local/lib/python3.6/dist-packages (from pycocotools>=2.0.2->detectron2) (50.3.2)\n",
            "Requirement already satisfied: requests<3,>=2.21.0 in /usr/local/lib/python3.6/dist-packages (from tensorboard->detectron2) (2.23.0)\n",
            "Requirement already satisfied: grpcio>=1.24.3 in /usr/local/lib/python3.6/dist-packages (from tensorboard->detectron2) (1.33.2)\n",
            "Requirement already satisfied: absl-py>=0.4 in /usr/local/lib/python3.6/dist-packages (from tensorboard->detectron2) (0.10.0)\n",
            "Requirement already satisfied: tensorboard-plugin-wit>=1.6.0 in /usr/local/lib/python3.6/dist-packages (from tensorboard->detectron2) (1.7.0)\n",
            "Requirement already satisfied: wheel>=0.26; python_version >= \"3\" in /usr/local/lib/python3.6/dist-packages (from tensorboard->detectron2) (0.35.1)\n",
            "Requirement already satisfied: google-auth-oauthlib<0.5,>=0.4.1 in /usr/local/lib/python3.6/dist-packages (from tensorboard->detectron2) (0.4.2)\n",
            "Requirement already satisfied: werkzeug>=0.11.15 in /usr/local/lib/python3.6/dist-packages (from tensorboard->detectron2) (1.0.1)\n",
            "Requirement already satisfied: google-auth<2,>=1.6.3 in /usr/local/lib/python3.6/dist-packages (from tensorboard->detectron2) (1.17.2)\n",
            "Requirement already satisfied: markdown>=2.6.8 in /usr/local/lib/python3.6/dist-packages (from tensorboard->detectron2) (3.3.3)\n",
            "Requirement already satisfied: six>=1.10.0 in /usr/local/lib/python3.6/dist-packages (from tensorboard->detectron2) (1.15.0)\n",
            "Requirement already satisfied: protobuf>=3.6.0 in /usr/local/lib/python3.6/dist-packages (from tensorboard->detectron2) (3.12.4)\n",
            "Requirement already satisfied: idna<3,>=2.5 in /usr/local/lib/python3.6/dist-packages (from requests<3,>=2.21.0->tensorboard->detectron2) (2.10)\n",
            "Requirement already satisfied: chardet<4,>=3.0.2 in /usr/local/lib/python3.6/dist-packages (from requests<3,>=2.21.0->tensorboard->detectron2) (3.0.4)\n",
            "Requirement already satisfied: certifi>=2017.4.17 in /usr/local/lib/python3.6/dist-packages (from requests<3,>=2.21.0->tensorboard->detectron2) (2020.6.20)\n",
            "Requirement already satisfied: urllib3!=1.25.0,!=1.25.1,<1.26,>=1.21.1 in /usr/local/lib/python3.6/dist-packages (from requests<3,>=2.21.0->tensorboard->detectron2) (1.24.3)\n",
            "Requirement already satisfied: requests-oauthlib>=0.7.0 in /usr/local/lib/python3.6/dist-packages (from google-auth-oauthlib<0.5,>=0.4.1->tensorboard->detectron2) (1.3.0)\n",
            "Requirement already satisfied: pyasn1-modules>=0.2.1 in /usr/local/lib/python3.6/dist-packages (from google-auth<2,>=1.6.3->tensorboard->detectron2) (0.2.8)\n",
            "Requirement already satisfied: cachetools<5.0,>=2.0.0 in /usr/local/lib/python3.6/dist-packages (from google-auth<2,>=1.6.3->tensorboard->detectron2) (4.1.1)\n",
            "Requirement already satisfied: rsa<5,>=3.1.4; python_version >= \"3\" in /usr/local/lib/python3.6/dist-packages (from google-auth<2,>=1.6.3->tensorboard->detectron2) (4.6)\n",
            "Requirement already satisfied: importlib-metadata; python_version < \"3.8\" in /usr/local/lib/python3.6/dist-packages (from markdown>=2.6.8->tensorboard->detectron2) (2.0.0)\n",
            "Requirement already satisfied: oauthlib>=3.0.0 in /usr/local/lib/python3.6/dist-packages (from requests-oauthlib>=0.7.0->google-auth-oauthlib<0.5,>=0.4.1->tensorboard->detectron2) (3.1.0)\n",
            "Requirement already satisfied: pyasn1<0.5.0,>=0.4.6 in /usr/local/lib/python3.6/dist-packages (from pyasn1-modules>=0.2.1->google-auth<2,>=1.6.3->tensorboard->detectron2) (0.4.8)\n",
            "Requirement already satisfied: zipp>=0.5 in /usr/local/lib/python3.6/dist-packages (from importlib-metadata; python_version < \"3.8\"->markdown>=2.6.8->tensorboard->detectron2) (3.4.0)\n"
          ],
          "name": "stdout"
        }
      ]
    },
    {
      "cell_type": "code",
      "metadata": {
        "id": "ZyAvNCJMmvFF"
      },
      "source": [
        "# Some basic setup:\n",
        "# Setup detectron2 logger\n",
        "import detectron2\n",
        "from detectron2.utils.logger import setup_logger\n",
        "setup_logger()\n",
        "\n",
        "# import some common libraries\n",
        "import numpy as np\n",
        "import os, json, cv2, random\n",
        "from google.colab.patches import cv2_imshow\n",
        "\n",
        "# import some common detectron2 utilities\n",
        "from detectron2 import model_zoo\n",
        "from detectron2.engine import DefaultPredictor\n",
        "from detectron2.config import get_cfg\n",
        "from detectron2.utils.visualizer import Visualizer\n",
        "from detectron2.data import MetadataCatalog, DatasetCatalog"
      ],
      "execution_count": null,
      "outputs": []
    },
    {
      "cell_type": "code",
      "metadata": {
        "colab": {
          "base_uri": "https://localhost:8080/"
        },
        "id": "D44YXy9VUEZz",
        "outputId": "68a256d0-4e06-4aae-c56d-8293c9c72b39"
      },
      "source": [
        "from google.colab import drive\n",
        "drive.mount('/content/drive')"
      ],
      "execution_count": null,
      "outputs": [
        {
          "output_type": "stream",
          "text": [
            "Drive already mounted at /content/drive; to attempt to forcibly remount, call drive.mount(\"/content/drive\", force_remount=True).\n"
          ],
          "name": "stdout"
        }
      ]
    },
    {
      "cell_type": "markdown",
      "metadata": {
        "id": "Vk4gID50K03a"
      },
      "source": [
        "# Run a pre-trained detectron2 model"
      ]
    },
    {
      "cell_type": "markdown",
      "metadata": {
        "id": "JgKyUL4pngvE"
      },
      "source": [
        "We first download an image from the COCO dataset:"
      ]
    },
    {
      "cell_type": "code",
      "metadata": {
        "id": "dq9GY37ml1kr"
      },
      "source": [
        "# !wget http://images.cocodataset.org/val2017/000000439715.jpg -q -O input.jpg\n",
        "# im = cv2.imread(\"./input.jpg\")\n",
        "# im2 = cv2.imread('/content/drive/My Drive/InterPet_Stuff/Copie de img370.png')\n",
        "# # # im3 = cv2.imread('/content/drive/My Drive/InterPet_Stuff/Copie de img019.png')\n",
        "# cv2_imshow(im2)"
      ],
      "execution_count": null,
      "outputs": []
    },
    {
      "cell_type": "markdown",
      "metadata": {
        "id": "uM1thbN-ntjI"
      },
      "source": [
        "Then, we create a detectron2 config and a detectron2 `DefaultPredictor` to run inference on this image."
      ]
    },
    {
      "cell_type": "code",
      "metadata": {
        "id": "HUjkwRsOn1O0"
      },
      "source": [
        "# cfg = get_cfg()\n",
        "# # add project-specific config (e.g., TensorMask) here if you're not running a model in detectron2's core library\n",
        "# cfg.merge_from_file(model_zoo.get_config_file(\"COCO-InstanceSegmentation/mask_rcnn_R_50_FPN_3x.yaml\"))\n",
        "# cfg.MODEL.ROI_HEADS.SCORE_THRESH_TEST = 0.5  # set threshold for this model\n",
        "# # Find a model from detectron2's model zoo. You can use the https://dl.fbaipublicfiles... url as well\n",
        "# cfg.MODEL.WEIGHTS = model_zoo.get_checkpoint_url(\"COCO-InstanceSegmentation/mask_rcnn_R_50_FPN_3x.yaml\")\n",
        "# predictor = DefaultPredictor(cfg)\n",
        "# outputs = predictor(im2)"
      ],
      "execution_count": null,
      "outputs": []
    },
    {
      "cell_type": "code",
      "metadata": {
        "id": "7d3KxiHO_0gb"
      },
      "source": [
        "# # look at the outputs. See https://detectron2.readthedocs.io/tutorials/models.html#model-output-format for specification\n",
        "# print(outputs[\"instances\"].pred_classes)\n",
        "# print(outputs[\"instances\"].pred_boxes)"
      ],
      "execution_count": null,
      "outputs": []
    },
    {
      "cell_type": "code",
      "metadata": {
        "id": "8IRGo8d0qkgR"
      },
      "source": [
        "# We can use `Visualizer` to draw the predictions on the image.\n",
        "# v = Visualizer(im2[:, :, ::-1], MetadataCatalog.get(cfg.DATASETS.TRAIN[0]), scale=1.2)\n",
        "# out = v.draw_instance_predictions(outputs[\"instances\"].to(\"cpu\"))\n",
        "# cv2_imshow(out.get_image()[:, :, ::-1])"
      ],
      "execution_count": null,
      "outputs": []
    },
    {
      "cell_type": "markdown",
      "metadata": {
        "id": "b2bjrfb2LDeo"
      },
      "source": [
        "# Train on a custom dataset"
      ]
    },
    {
      "cell_type": "markdown",
      "metadata": {
        "id": "tjbUIhSxUdm_"
      },
      "source": [
        "In this section, we show how to train an existing detectron2 model on a custom dataset in a new format.\n",
        "\n",
        "We use [the balloon segmentation dataset](https://github.com/matterport/Mask_RCNN/tree/master/samples/balloon)\n",
        "which only has one class: balloon.\n",
        "We'll train a balloon segmentation model from an existing model pre-trained on COCO dataset, available in detectron2's model zoo.\n",
        "\n",
        "Note that COCO dataset does not have the \"balloon\" category. We'll be able to recognize this new class in a few minutes.\n",
        "\n",
        "## Prepare the dataset"
      ]
    },
    {
      "cell_type": "code",
      "metadata": {
        "id": "wGp0fsLAR1_0"
      },
      "source": [
        "os.mkdir(\"cats\")\n",
        "os.mkdir(\"cats/train\")\n",
        "os.mkdir(\"cats/valid\")"
      ],
      "execution_count": null,
      "outputs": []
    },
    {
      "cell_type": "code",
      "metadata": {
        "id": "4Qg7zSVOulkb"
      },
      "source": [
        "# # download, decompress the data\n",
        "# !wget https://github.com/matterport/Mask_RCNN/releases/download/v2.1/balloon_dataset.zip\n",
        "# !unzip balloon_dataset.zip > /dev/null"
      ],
      "execution_count": null,
      "outputs": []
    },
    {
      "cell_type": "code",
      "metadata": {
        "id": "nMFbLS2mR4O0",
        "colab": {
          "base_uri": "https://localhost:8080/"
        },
        "outputId": "fe0eb72c-5477-4e43-f076-b8579223e7a2"
      },
      "source": [
        "!unzip \"/content/drive/My Drive/InterPet_Stuff/train/all_train.zip\" -d /content/cats/train/\n",
        "!unzip \"/content/drive/My Drive/InterPet_Stuff/valid/all_valid.zip\" -d /content/cats/valid/\n",
        "!unzip \"/content/cats/train/Copie de train_segmentation.zip\" -d /content/cats/train/\n",
        "!unzip \"/content/cats/valid/test_segmentation.zip\" -d /content/cats/valid/"
      ],
      "execution_count": null,
      "outputs": [
        {
          "output_type": "stream",
          "text": [
            "Archive:  /content/drive/My Drive/InterPet_Stuff/train/all_train.zip\n",
            "  inflating: /content/cats/train/Copie de segmentation_train_28Oct2020_v1train.json  \n",
            "  inflating: /content/cats/train/Copie de train_segmentation.zip  \n",
            "Archive:  /content/drive/My Drive/InterPet_Stuff/valid/all_valid.zip\n",
            "  inflating: /content/cats/valid/Copie de segmentation_test29Oct2020_13h11m(1).json  \n",
            "  inflating: /content/cats/valid/test_segmentation.zip  \n",
            "Archive:  /content/cats/train/Copie de train_segmentation.zip\n",
            "Created by ZIP Extractor v4.22 on 2020-10-28\n",
            "  inflating: /content/cats/train/cat_60.jpg  \n",
            "  inflating: /content/cats/train/cat_59  \n",
            "  inflating: /content/cats/train/cat_58  \n",
            "  inflating: /content/cats/train/cat_57.jpeg  \n",
            "  inflating: /content/cats/train/cat_56.jpeg  \n",
            "  inflating: /content/cats/train/cat_55.jpeg  \n",
            "  inflating: /content/cats/train/cat_54.jpeg  \n",
            "  inflating: /content/cats/train/cat_53.jpeg  \n",
            "  inflating: /content/cats/train/cat_52.jpeg  \n",
            "  inflating: /content/cats/train/cat_51.jpeg  \n",
            "  inflating: /content/cats/train/cat_50.jpeg  \n",
            "  inflating: /content/cats/train/cat_49.jpeg  \n",
            "  inflating: /content/cats/train/cat_48.jpeg  \n",
            "  inflating: /content/cats/train/cat_47.jpeg  \n",
            "  inflating: /content/cats/train/cat_46.jpeg  \n",
            "  inflating: /content/cats/train/cat_45.jpeg  \n",
            "  inflating: /content/cats/train/cat_44.jpeg  \n",
            "  inflating: /content/cats/train/cat_43.jpg  \n",
            "  inflating: /content/cats/train/cat_42.jpg  \n",
            "  inflating: /content/cats/train/cat_41.jpeg  \n",
            "  inflating: /content/cats/train/cat_40.jpeg  \n",
            "  inflating: /content/cats/train/cat_39.jpg  \n",
            "  inflating: /content/cats/train/cat_38.jpeg  \n",
            "  inflating: /content/cats/train/cat_37.jpeg  \n",
            "  inflating: /content/cats/train/cat_36.jpeg  \n",
            "  inflating: /content/cats/train/cat_35.jpg  \n",
            "  inflating: /content/cats/train/cat_34  \n",
            "  inflating: /content/cats/train/cat_33  \n",
            "  inflating: /content/cats/train/cat_32  \n",
            "  inflating: /content/cats/train/cat_31.jpg  \n",
            "  inflating: /content/cats/train/cat_30.jpg  \n",
            "  inflating: /content/cats/train/cat_29.jpg  \n",
            "  inflating: /content/cats/train/cat_28.jpeg  \n",
            "  inflating: /content/cats/train/cat_27.jpg  \n",
            "  inflating: /content/cats/train/cat_26.jpg  \n",
            "  inflating: /content/cats/train/cat_25.jpg  \n",
            "  inflating: /content/cats/train/cat_24.jpeg  \n",
            "  inflating: /content/cats/train/cat_23.jpeg  \n",
            "  inflating: /content/cats/train/cat_22.jpeg  \n",
            "  inflating: /content/cats/train/cat_21.jpeg  \n",
            "  inflating: /content/cats/train/cat_20.jpeg  \n",
            "  inflating: /content/cats/train/cat_19.jpeg  \n",
            "  inflating: /content/cats/train/cat_18.jpeg  \n",
            "  inflating: /content/cats/train/cat_17.jpeg  \n",
            "  inflating: /content/cats/train/cat_16.jpeg  \n",
            "  inflating: /content/cats/train/cat_15.jpeg  \n",
            "  inflating: /content/cats/train/cat_14.jpeg  \n",
            "  inflating: /content/cats/train/cat_13.jpeg  \n",
            "  inflating: /content/cats/train/cat_12.jpeg  \n",
            "  inflating: /content/cats/train/cat_11.jpeg  \n",
            "  inflating: /content/cats/train/cat_10.jpeg  \n",
            "  inflating: /content/cats/train/cat_9.jpeg  \n",
            "  inflating: /content/cats/train/cat_8.jpeg  \n",
            "  inflating: /content/cats/train/cat_7.jpeg  \n",
            "  inflating: /content/cats/train/cat_6.jpeg  \n",
            "  inflating: /content/cats/train/cat_5  \n",
            "  inflating: /content/cats/train/cat_4.jpg  \n",
            "  inflating: /content/cats/train/cat_3.jpg  \n",
            "  inflating: /content/cats/train/cat_2.jpg  \n",
            "  inflating: /content/cats/train/cat_1.jpg  \n",
            "Archive:  /content/cats/valid/test_segmentation.zip\n",
            "Created by ZIP Extractor v4.22 on 2020-10-28\n",
            "  inflating: /content/cats/valid/cat_75.jpg  \n",
            "  inflating: /content/cats/valid/cat_74.jpg  \n",
            "  inflating: /content/cats/valid/cat_73.jpg  \n",
            "  inflating: /content/cats/valid/cat_72.jpg  \n",
            "  inflating: /content/cats/valid/cat_71.jpg  \n",
            "  inflating: /content/cats/valid/cat_70.jpg  \n",
            "  inflating: /content/cats/valid/cat_69.jpg  \n",
            "  inflating: /content/cats/valid/cat_68.jpg  \n",
            "  inflating: /content/cats/valid/cat_67.jpg  \n",
            "  inflating: /content/cats/valid/cat_66.jpg  \n",
            "  inflating: /content/cats/valid/cat_65.jpg  \n",
            "  inflating: /content/cats/valid/cat_64.jpg  \n",
            "  inflating: /content/cats/valid/cat_63.jpg  \n",
            "  inflating: /content/cats/valid/cat_62.jpg  \n",
            "  inflating: /content/cats/valid/cat_61.jpeg  \n"
          ],
          "name": "stdout"
        }
      ]
    },
    {
      "cell_type": "markdown",
      "metadata": {
        "id": "tVJoOm6LVJwW"
      },
      "source": [
        "Register the balloon dataset to detectron2, following the [detectron2 custom dataset tutorial](https://detectron2.readthedocs.io/tutorials/datasets.html).\n",
        "Here, the dataset is in its custom format, therefore we write a function to parse it and prepare it into detectron2's standard format. User should write such a function when using a dataset in custom format. See the tutorial for more details.\n"
      ]
    },
    {
      "cell_type": "code",
      "metadata": {
        "id": "zD2Be65TbuuM"
      },
      "source": [
        "from detectron2.structures import BoxMode\n",
        "\n",
        "def get_balloon_dicts2(img_dir):\n",
        "\n",
        "\n",
        "    limbs = [\"ear_r\", \"ear_l\", \"fpaw_r\", \"fpaw_l\", \"bpaw_r\", \"bpaw_l\", \"head\", \"tail\", \"whiter\"]\n",
        "    # print(f'We are searching for : {limb}')\n",
        "    err_f,err_cat = 0, 0 #### count the number of unreadable files\n",
        "    if img_dir == \"cats/train\":\n",
        "      json_file = os.path.join(img_dir, \"Copie de segmentation_train_28Oct2020_v1train.json\")\n",
        "    else:\n",
        "      json_file = os.path.join(img_dir, \"Copie de segmentation_test29Oct2020_13h11m(1).json\")\n",
        "\n",
        "\n",
        "    with open(json_file) as f:\n",
        "        imgs_anns = json.load(f)\n",
        "    dataset_dicts = []\n",
        "    for idx, v in enumerate(imgs_anns['_via_img_metadata'].values()):\n",
        "        record = {}\n",
        "        \n",
        "        try:\n",
        "          filename = os.path.join(img_dir, v['filename'])\n",
        "          height, width = cv2.imread(filename).shape[:2]\n",
        "        except:\n",
        "          # err_f = err_f + 1\n",
        "        # print(\"filename without name : \", idx)\n",
        "          continue\n",
        "        record[\"file_name\"] = filename\n",
        "        record[\"image_id\"] = idx\n",
        "        record[\"height\"] = height\n",
        "        record[\"width\"] = width\n",
        "  \n",
        "        annos = v[\"regions\"]\n",
        "        objs = []\n",
        "        # for _, anno in annos.items():\n",
        "        for anno in annos:\n",
        "            # assert not anno[\"region_attributes\"]\n",
        "            anno_s = anno[\"shape_attributes\"]\n",
        "            px = anno_s[\"all_points_x\"]\n",
        "            py = anno_s[\"all_points_y\"]\n",
        "            poly = [(x + 0.5, y + 0.5) for x, y in zip(px, py)]\n",
        "            poly = [p for x in poly for p in x]\n",
        "        #print(\"new anno : \", anno)\n",
        "            try:\n",
        "              lim = anno[\"region_attributes\"][\"CAT\"]\n",
        "            except:\n",
        "              try:\n",
        "                lim = anno[\"region_attributes\"][\"cat\"]\n",
        "              except:\n",
        "                err_cat = err_cat + 1\n",
        "            id = 0\n",
        "            if lim == \"head\":\n",
        "              id = 0\n",
        "            elif lim == \"tail\":\n",
        "              id = 1\n",
        "            elif lim == \"fpaw_r\":\n",
        "              id = 2\n",
        "            elif lim == \"fpaw_l\":\n",
        "              id = 3\n",
        "            elif lim == \"ear_r\":\n",
        "              id = 4\n",
        "            elif lim == \"ear_l\":\n",
        "              id = 5\n",
        "            elif lim == \"whiter\":\n",
        "              id = 6\n",
        "            obj = {\n",
        "                \"bbox\": [np.min(px), np.min(py), np.max(px), np.max(py)],\n",
        "                \"bbox_mode\": BoxMode.XYXY_ABS,\n",
        "                \"segmentation\": [poly],\n",
        "                \"category_id\": id,\n",
        "            }\n",
        "            objs.append(obj)\n",
        "        record[\"annotations\"] = objs\n",
        "        dataset_dicts.append(record)\n",
        "    return dataset_dicts\n",
        "\n",
        "for d in [\"train\", \"valid\"]:\n",
        "    DatasetCatalog.register(\"cats_\" + d, lambda d=d: get_balloon_dicts2(\"cats/\" + d))\n",
        "    MetadataCatalog.get(\"cats_\" + d).set(thing_classes=[\"head\", \"tail\", \"fpaw_r\", \"fpaw_l\",\"ear_r\",\"ear_l\",\"whiter\"])\n",
        "cats_metadata = MetadataCatalog.get(\"cats_train\")\n"
      ],
      "execution_count": null,
      "outputs": []
    },
    {
      "cell_type": "code",
      "metadata": {
        "id": "BveXfOsIeOVI"
      },
      "source": [
        "# dm = get_balloon_dicts2(\"cats/train\")"
      ],
      "execution_count": null,
      "outputs": []
    },
    {
      "cell_type": "code",
      "metadata": {
        "id": "9xM__oS9e0Uf"
      },
      "source": [
        "# len(dm)"
      ],
      "execution_count": null,
      "outputs": []
    },
    {
      "cell_type": "code",
      "metadata": {
        "id": "saLqyLTgXPOm"
      },
      "source": [
        "# [DatasetCatalog.remove(x) for x in [ \n",
        "# 'cats_train',\n",
        "#  'cats_valid']]"
      ],
      "execution_count": null,
      "outputs": []
    },
    {
      "cell_type": "code",
      "metadata": {
        "id": "w65uGXxot4DD"
      },
      "source": [
        "# [MetadataCatalog.remove(x) for x in ['cats_train',\n",
        "#  'cats_valid']]"
      ],
      "execution_count": null,
      "outputs": []
    },
    {
      "cell_type": "code",
      "metadata": {
        "id": "oNGdrYgfhhpL"
      },
      "source": [
        "# DatasetCatalog.get('balloon_train')"
      ],
      "execution_count": null,
      "outputs": []
    },
    {
      "cell_type": "markdown",
      "metadata": {
        "id": "6ljbWTX0Wi8E"
      },
      "source": [
        "To verify the data loading is correct, let's visualize the annotations of randomly selected samples in the training set:\n",
        "\n"
      ]
    },
    {
      "cell_type": "markdown",
      "metadata": {
        "id": "wlqXIXXhW8dA"
      },
      "source": [
        "## Train!\n",
        "\n",
        "Now, let's fine-tune a COCO-pretrained R50-FPN Mask R-CNN model on the balloon dataset. It takes ~6 minutes to train 300 iterations on Colab's K80 GPU, or ~2 minutes on a P100 GPU.\n"
      ]
    },
    {
      "cell_type": "code",
      "metadata": {
        "id": "oeOOxVclvOUh"
      },
      "source": [
        "# os.mkdir(\"val_img_pred\")\n",
        "os.mkdir(\"val_img_pred\")\n"
      ],
      "execution_count": null,
      "outputs": []
    },
    {
      "cell_type": "code",
      "metadata": {
        "id": "hwGxw9A3Wg0A"
      },
      "source": [
        "from detectron2.engine import DefaultTrainer\n",
        "from detectron2.utils.visualizer import ColorMode\n",
        "from detectron2.evaluation import COCOEvaluator, inference_on_dataset\n",
        "from detectron2.data import build_detection_test_loader\n",
        "import json\n",
        "import neptune\n",
        "import neptunecontrib\n",
        "from neptunecontrib import create_experiment_from_json\n",
        "import shutil\n",
        "\n",
        "eval_res_seg = {\"eval_precision_head\":0,\"eval_precision_fpaw_r\":0,\"eval_precision_fpaw_l\":0 ,\"eval_precision_tail\":0,\"eval_precision_ear_r\":0,\"eval_precision_ear_l\":0,\"eval_precision_whiter\":0}\n",
        "eval_res_box = {\"head\":28.497,\"fpaw_r\":1.841,\"fpaw_l\":8.137,\"tail\":20.267,\"ear_r\":17.804,\"ear_l\":14.775,\"whiter\":1.622}\n",
        "\n",
        "val_img_dir = \"/content/val_img_pred\"\n",
        "out_dir = \"/content/output\"\n",
        "\n",
        "classes = 7\n",
        "iterations = [2400]\n",
        "batch_size_per_img = 512\n",
        "\n",
        "coco = \"COCO-InstanceSegmentation/\"\n",
        "bag_models = [\n",
        "##\"mask_rcnn_R_101_C4_3x.yaml\",   not available in model-zoo\n",
        "##\"mask_rcnn_R_50_C4_3x.yaml\",\n",
        "##\"mask_rcnn_R_50_DC5_3x.yaml\",\n",
        "##\"mask_rcnn_X_101_32x8d_FPN_3x.yaml\"\n",
        "        # \"COCO-InstanceSegmentation/mask_rcnn_R_50_C4_3x.yaml\",\n",
        "        # \"COCO-InstanceSegmentation/mask_rcnn_R_50_DC5_3x.yaml\",\n",
        "        #########\"COCO-InstanceSegmentation/mask_rcnn_R_50_FPN_3x.yaml\",\n",
        "        # \"COCO-InstanceSegmentation/mask_rcnn_R_101_C4_3x.yaml\",\n",
        "        # \"COCO-InstanceSegmentation/mask_rcnn_R_101_DC5_3x.yaml\",\n",
        "        # \"COCO-InstanceSegmentation/mask_rcnn_R_101_FPN_3x.yaml\",\n",
        "        \"COCO-InstanceSegmentation/mask_rcnn_X_101_32x8d_FPN_3x.yaml\"\n",
        "]\n",
        "\n",
        "# exp_number = 5\n",
        "# model = coco + bag_models[exp_number - 5]\n",
        "# print(model)\n",
        "\n",
        "for it in iterations:\n",
        "  print(it)\n",
        "  for each in enumerate(bag_models):\n",
        "    print(each[1])\n",
        "    exp_number = each[0] + 16\n",
        "    print(exp_number)\n",
        "    # try:\n",
        "    training(exp_number,each[1],it,batch_size_per_img)\n",
        "      # wrap_data(classes,it,each[1],batch_size_per_img,val_img_dir,exp_number)\n",
        "    # except:\n",
        "      # continue"
      ],
      "execution_count": null,
      "outputs": []
    },
    {
      "cell_type": "code",
      "metadata": {
        "id": "rN4Yo_IsRMte"
      },
      "source": [
        "pred = inf(cfg,12,trainer)\n",
        "get_imgs(cfg,12,trainer,pred)\n",
        "Eval(cfg,trainer,12)\n",
        "wrap_data(classes,1200,\"COCO-InstanceSegmentation/mask_rcnn_X_101_32x8d_FPN_3x.yaml\",batch_size_per_img,val_img_dir,12)"
      ],
      "execution_count": null,
      "outputs": []
    },
    {
      "cell_type": "code",
      "metadata": {
        "id": "nixJtrWgGBmM"
      },
      "source": [
        "# m,c = training(1,\"COCO-InstanceSegmentation/mask_rcnn_R_50_FPN_3x.yaml\",20,216)"
      ],
      "execution_count": null,
      "outputs": []
    },
    {
      "cell_type": "code",
      "metadata": {
        "id": "sAlIq0af2S7p"
      },
      "source": [
        ""
      ],
      "execution_count": null,
      "outputs": []
    },
    {
      "cell_type": "code",
      "metadata": {
        "id": "7unkuuiqLdqd"
      },
      "source": [
        "def training(number,model,iterations,batch_size_per_img):\n",
        "  cfg = get_cfg()\n",
        "  cfg.merge_from_file(model_zoo.get_config_file(model))\n",
        "  cfg.DATASETS.TRAIN = (\"cats_train\",)\n",
        "  cfg.DATASETS.TEST = ()\n",
        "  cfg.DATALOADER.NUM_WORKERS = 2\n",
        "  cfg.MODEL.WEIGHTS = model_zoo.get_checkpoint_url(model)  # Let training initialize from model zoo\n",
        "  cfg.SOLVER.IMS_PER_BATCH = 2\n",
        "  cfg.SOLVER.BASE_LR = 0.00025  # pick a good LR\n",
        "  cfg.SOLVER.MAX_ITER = iterations    # 600 iterations seems good enough for this toy dataset; you will need to train longer for a practical dataset\n",
        "  cfg.MODEL.ROI_HEADS.BATCH_SIZE_PER_IMAGE = batch_size_per_img   # faster, and good enough for this toy dataset (default: 512)\n",
        "  cfg.MODEL.ROI_HEADS.NUM_CLASSES = 7  # only has one class (ballon). (see https://detectron2.readthedocs.io/tutorials/datasets.html#update-the-config-for-new-datasets)\n",
        "\n",
        "  os.makedirs(cfg.OUTPUT_DIR, exist_ok=True)\n",
        "  trainer = DefaultTrainer(cfg) \n",
        "  trainer.resume_or_load(resume=False)\n",
        "  trainer.train()\n",
        "  # return trainer.train()\n",
        "  # return trainer,cfg\n",
        "  # return cfg, trainer\n",
        "  inf(cfg,number,trainer,iterations,model)\n",
        "\n"
      ],
      "execution_count": null,
      "outputs": []
    },
    {
      "cell_type": "code",
      "metadata": {
        "id": "hBXeH8UXFcqU"
      },
      "source": [
        "# Look at training curves in tensorboard:\n",
        "%load_ext tensorboard\n",
        "%tensorboard --logdir output"
      ],
      "execution_count": null,
      "outputs": []
    },
    {
      "cell_type": "markdown",
      "metadata": {
        "id": "0e4vdDIOXyxF"
      },
      "source": [
        "## Inference & evaluation using the trained model\n",
        "Now, let's run inference with the trained model on the balloon validation dataset. First, let's create a predictor using the model we just trained:\n",
        "\n"
      ]
    },
    {
      "cell_type": "code",
      "metadata": {
        "id": "Ya5nEuMELeq8"
      },
      "source": [
        "# Inference should use the config with parameters that are used in training\n",
        "# cfg now already contains everything we've set previously. We changed it a little bit for inference:\n",
        "def inf(cfg,n,trainer,it,model):\n",
        "  cfg.MODEL.WEIGHTS = os.path.join(cfg.OUTPUT_DIR, \"model_final.pth\")  # path to the model we just trained\n",
        "  cfg.MODEL.ROI_HEADS.SCORE_THRESH_TEST = 0.7   # set a custom testing threshold\n",
        "  predictor = DefaultPredictor(cfg)\n",
        "  # return predictor\n",
        "  get_imgs(cfg,n,trainer,predictor,it,model)\n"
      ],
      "execution_count": null,
      "outputs": []
    },
    {
      "cell_type": "markdown",
      "metadata": {
        "id": "qWq1XHfDWiXO"
      },
      "source": [
        "Then, we randomly select several samples to visualize the prediction results."
      ]
    },
    {
      "cell_type": "code",
      "metadata": {
        "id": "U5LhISJqWXgM"
      },
      "source": [
        "\n",
        "\n",
        "def get_imgs(cfg,n,trainer,predictor,it,model):\n",
        "  dataset_dicts = get_balloon_dicts2(\"cats/valid\")\n",
        "# for d in random.sample(dataset_dicts, 3):   \n",
        "  for m in range(0,15):\n",
        "      d = dataset_dicts[m]\n",
        "      im = cv2.imread(d[\"file_name\"])\n",
        "      outputs = predictor(im)  # format is documented at https://detectron2.readthedocs.io/tutorials/models.html#model-output-format\n",
        "      v = Visualizer(im[:, :, ::-1],\n",
        "                   metadata=cats_metadata, \n",
        "                   scale=1, \n",
        "                   instance_mode=ColorMode.IMAGE_BW   # remove the colors of unsegmented pixels. This option is only available for segmentation models\n",
        "      )\n",
        "      out = v.draw_instance_predictions(outputs[\"instances\"].to(\"cpu\"))\n",
        "      img = out.get_image()[:, :, ::-1]\n",
        "      filename = \"valid_\" + str(m+1) + \".png\"\n",
        "    # cv2.imwrite(filename, img) \n",
        "      cv2.imwrite(os.path.join(val_img_dir , filename), img)\n",
        "    # cv2.waitKey(0)\n",
        "      #cv2_imshow(img)\n",
        "  Eval(cfg,trainer,n,it,model)"
      ],
      "execution_count": null,
      "outputs": []
    },
    {
      "cell_type": "markdown",
      "metadata": {
        "id": "kblA1IyFvWbT"
      },
      "source": [
        "We can also evaluate its performance using AP metric implemented in COCO API.\n",
        "This gives an AP of ~70. Not bad!"
      ]
    },
    {
      "cell_type": "code",
      "metadata": {
        "id": "fYi4iYi9EwFD"
      },
      "source": [
        "eval_res_seg"
      ],
      "execution_count": null,
      "outputs": []
    },
    {
      "cell_type": "code",
      "metadata": {
        "id": "h9tECBQCvMv3"
      },
      "source": [
        "def Eval(cfg,trainer,n,it,model):\n",
        "  global eval_res_seg\n",
        "  evaluator = COCOEvaluator(\"cats_valid\", (\"bbox\", \"segm\"), False, output_dir=\"./output/\")\n",
        "  val_loader = build_detection_test_loader(cfg, \"cats_valid\")\n",
        "  # print(inference_on_dataset(trainer.model, val_loader, evaluator))\n",
        "  a = inference_on_dataset(trainer.model,val_loader,evaluator)\n",
        "\n",
        "  eval_res_seg = {\"eval_precision_head\":round(a[\"segm\"][\"AP-head\"],3),\"eval_precision_fpaw_r\":round(a[\"segm\"][\"AP-fpaw_r\"],3),\"eval_precision_fpaw_l\":round(a[\"segm\"][\"AP-fpaw_l\"],3) ,\"eval_precision_tail\":round(a[\"segm\"][\"AP-tail\"],3),\"eval_precision_ear_r\":round(a[\"segm\"][\"AP-ear_r\"],3),\"eval_precision_ear_l\":round(a[\"segm\"][\"AP-ear_l\"],3),\"eval_precision_whiter\":round(a[\"segm\"][\"AP-whiter\"],3)}\n",
        "  wrap_data(it,model,n)\n",
        "# another equivalent way to evaluate the model is to use `trainer.test`"
      ],
      "execution_count": null,
      "outputs": []
    },
    {
      "cell_type": "code",
      "metadata": {
        "id": "ZPM1QxPt6jjk"
      },
      "source": [
        "a = inference_on_dataset(trainer.model, val_loader, evaluator)"
      ],
      "execution_count": null,
      "outputs": []
    },
    {
      "cell_type": "code",
      "metadata": {
        "id": "cO5_l1L5XZi0"
      },
      "source": [
        ""
      ],
      "execution_count": null,
      "outputs": []
    },
    {
      "cell_type": "markdown",
      "metadata": {
        "id": "XexkF3nWRuyl"
      },
      "source": [
        "# Neptune"
      ]
    },
    {
      "cell_type": "code",
      "metadata": {
        "id": "v2KNqyfwRrhe"
      },
      "source": [
        "def wrap_data(iterations,model,exp_number):\n",
        "  global classes\n",
        "  global batch_size_per_img\n",
        "  global val_img_dir\n",
        "\n",
        "  metrics_file = \"/content/output/metrics.json\"\n",
        "\n",
        "  tweets = []\n",
        "  for line in open(metrics_file, 'r'):\n",
        "      tweets.append(json.loads(line))\n",
        "  data = {\n",
        "  \"filepath\": \"/content/data.json\",\n",
        "  \"name\": 'danielfmfurlan/sandbox',\n",
        "  \"description\": \"json tracking experiment\",\n",
        "  \"api_token\" : \"eyJhcGlfYWRkcmVzcyI6Imh0dHBzOi8vdWkubmVwdHVuZS5haSIsImFwaV91cmwiOiJodHRwczovL3VpLm5lcHR1bmUuYWkiLCJhcGlfa2V5IjoiY2ViMWVhOWItZmE5NS00NGI5LWFiN2QtYmNmYTg3OTFjMzFmIn0=\",\n",
        "  \"params\": {\n",
        "    \"train_images\" : 60,\n",
        "    \"number_classes\" : classes,\n",
        "    \"processed_imgs\": 53,\n",
        "    \"ROI_HEADS_BATCH_SIZE_PER_IMAGE\" : batch_size_per_img,\n",
        "    \"iterations\": iterations,\n",
        "    \"model\":model\n",
        "  },\n",
        "  \"properties\": {\n",
        "    \"data_version\": \"1231ffwefef9\",\n",
        "    \"data_path\": \"data/train.csv\"\n",
        "  },\n",
        "  \"images\":{\n",
        "    \"filepath\":val_img_dir  \n",
        "  },\n",
        "  \"tags\": [\n",
        "    \"resnet\",\n",
        "    \"no_preprocessing\"\n",
        "  ],\n",
        "  \"upload_source_files\": [\n",
        "    \"run.sh\"\n",
        "  ],\n",
        "  \"log_metric\": {\n",
        "    \"iteration\":[],\n",
        "    \"total_loss\": { ### x\n",
        "      \"loss\": [] #### y\n",
        "    },\n",
        "    \"mask_accuracy\": {\n",
        "      \"acc\": []\n",
        "    },\n",
        "    \"mask_fp\":{\n",
        "        \"fp\":[]        \n",
        "    },\n",
        "    \"mask_fn\":{\n",
        "        \"fn\":[]        \n",
        "    }\n",
        "    }}\n",
        "\n",
        "  for each in tweets: \n",
        "    data[\"log_metric\"][\"total_loss\"][\"loss\"].append(each[\"total_loss\"])\n",
        "    data[\"log_metric\"][\"iteration\"].append(each[\"iteration\"])\n",
        "\n",
        "    data[\"log_metric\"][\"mask_accuracy\"][\"acc\"].append(each['mask_rcnn/accuracy'])\n",
        "    data[\"log_metric\"][\"mask_fn\"][\"fn\"].append(each['mask_rcnn/false_negative'])\n",
        "    data[\"log_metric\"][\"mask_fp\"][\"fp\"].append(each['mask_rcnn/false_positive'])\n",
        "\n",
        "  with open('data.json', 'w') as outfile:\n",
        "      json.dump(data, outfile)\n",
        "\n",
        "  nept(exp_number,data)\n"
      ],
      "execution_count": null,
      "outputs": []
    },
    {
      "cell_type": "code",
      "metadata": {
        "id": "bn2X9usmZa5n"
      },
      "source": [
        "data"
      ],
      "execution_count": null,
      "outputs": []
    },
    {
      "cell_type": "code",
      "metadata": {
        "id": "eydN9QNKYQXx"
      },
      "source": [
        "\n",
        "def nept(exp_number,data):\n",
        "  neptune.init(\n",
        "    api_token=\"eyJhcGlfYWRkcmVzcyI6Imh0dHBzOi8vdWkubmVwdHVuZS5haSIsImFwaV91cmwiOiJodHRwczovL3VpLm5lcHR1bmUuYWkiLCJhcGlfa2V5IjoiY2ViMWVhOWItZmE5NS00NGI5LWFiN2QtYmNmYTg3OTFjMzFmIn0=\",\n",
        "    project_qualified_name=\"danielfmfurlan/sandbox\"\n",
        "\n",
        "  )\n",
        "  # NAME = 'detectron2 : exp. ' + exp_number\n",
        "  NAME = 'detectron2 : exp. ' + str(exp_number)\n",
        "  neptune.create_experiment(name=NAME,\n",
        "                          params = data[\"params\"]\n",
        "                          )\n",
        "  log_data(data)"
      ],
      "execution_count": null,
      "outputs": []
    },
    {
      "cell_type": "code",
      "metadata": {
        "id": "w5FScOmYYMGK"
      },
      "source": [
        "def log_data(data):\n",
        "\n",
        "  for key in data['log_metric'].keys():\n",
        "    print(key)\n",
        "    if key != \"iteration\":\n",
        "      for each in data[\"log_metric\"][key].keys():\n",
        "        for elem in data[\"log_metric\"][key][each]:\n",
        "        \n",
        "          neptune.log_metric(key,elem)\n",
        "\n",
        "\n",
        "  for each in eval_res_seg.items():\n",
        "    neptune.log_metric(each[0],each[1])\n",
        "  log_imgs()\n",
        "\n"
      ],
      "execution_count": null,
      "outputs": []
    },
    {
      "cell_type": "code",
      "metadata": {
        "id": "ey8QoG6V-FRd"
      },
      "source": [
        "def log_imgs():\n",
        "\n",
        "  for filename in os.listdir(val_img_dir):\n",
        "    if filename.endswith(\".png\"):\n",
        "      neptune.log_image(\"val imgs pred\", os.path.join(val_img_dir,filename), image_name = filename)\n",
        "  log_artif()\n"
      ],
      "execution_count": null,
      "outputs": []
    },
    {
      "cell_type": "code",
      "metadata": {
        "id": "3F4ELjJsZS1O"
      },
      "source": [
        "def log_artif():\n",
        "  for each in os.listdir(out_dir):\n",
        "    if \"lock\" not in each and \"events\" not in each and each != \"coco_instances_results.json\":\n",
        "      neptune.log_artifact(os.path.join(out_dir,each))\n",
        "  del_dirs()"
      ],
      "execution_count": null,
      "outputs": []
    },
    {
      "cell_type": "markdown",
      "metadata": {
        "id": "avmT0z6r1C47"
      },
      "source": [
        "Delete folders to rerun all scripts"
      ]
    },
    {
      "cell_type": "code",
      "metadata": {
        "id": "SSPOCKDD0Ief"
      },
      "source": [
        "# out_dir = \"/content/output\"\n",
        "  # val_img_dir = \"/content/val_img_pred\"\n",
        "def del_dirs():\n",
        "  shutil.rmtree(out_dir)\n",
        "\n",
        "  for filename in os.listdir(val_img_dir):\n",
        "    os.remove(os.path.join(val_img_dir,filename))\n",
        "  stop_nept()"
      ],
      "execution_count": null,
      "outputs": []
    },
    {
      "cell_type": "code",
      "metadata": {
        "id": "KK_krMQHnJMt"
      },
      "source": [
        "def stop_nept():\n",
        "  neptune.stop()"
      ],
      "execution_count": null,
      "outputs": []
    },
    {
      "cell_type": "code",
      "metadata": {
        "id": "VPN_hajfBdko"
      },
      "source": [
        "from PIL import Image \n",
        "from numpy import asarray \n",
        "x = []\n",
        "dir = \"/content/cats/train\"\n",
        "for files in os.listdir(dir):\n",
        "  if \"cat\" in files:\n",
        "    img = Image.open(os.path.join(dir,files))\n",
        "     \n",
        "# asarray() class is used to convert \n",
        "# PIL images into NumPy arrays \n",
        "    numpydata = asarray(img) \n",
        "    x.append(numpydata)\n",
        "  \n",
        "# <class 'numpy.ndarray'> \n",
        "print(type(x)) \n",
        "  # \n",
        "#  shape \n",
        "for each in x:\n",
        "  print(len(each))\n",
        "len(x[0])\n",
        "# print(x.shape) \n",
        "x = np.array(x)\n",
        "type(x)"
      ],
      "execution_count": null,
      "outputs": []
    },
    {
      "cell_type": "code",
      "metadata": {
        "id": "7up04mfjBiVw"
      },
      "source": [
        "import shap\n",
        "import numpy as np\n",
        "\n",
        "x_train = x\n",
        "\n",
        "# select a set of background examples to take an expectation over\n",
        "background = x_train[np.random.choice(x_train.shape[0], 100, replace=False)]\n",
        "\n",
        "# explain predictions of the model on three images\n",
        "e = shap.DeepExplainer(model, background)\n",
        "# ...or pass tensors directly\n",
        "# e = shap.DeepExplainer((model.layers[0].input, model.layers[-1].output), background)\n",
        "shap_values = e.shap_values(x_test[1:5])"
      ],
      "execution_count": null,
      "outputs": []
    },
    {
      "cell_type": "markdown",
      "metadata": {
        "id": "oKBbjnLw5GGG"
      },
      "source": [
        "# Other types of builtin models"
      ]
    },
    {
      "cell_type": "code",
      "metadata": {
        "id": "GYJrlXZC5M-J"
      },
      "source": [
        "# Inference with a keypoint detection model\n",
        "cfg = get_cfg()   # get a fresh new config\n",
        "cfg.merge_from_file(model_zoo.get_config_file(\"COCO-Keypoints/keypoint_rcnn_R_50_FPN_3x.yaml\"))\n",
        "cfg.MODEL.ROI_HEADS.SCORE_THRESH_TEST = 0.7  # set threshold for this model\n",
        "cfg.MODEL.WEIGHTS = model_zoo.get_checkpoint_url(\"COCO-Keypoints/keypoint_rcnn_R_50_FPN_3x.yaml\")\n",
        "predictor = DefaultPredictor(cfg)\n",
        "outputs = predictor(im)\n",
        "v = Visualizer(im[:,:,::-1], MetadataCatalog.get(cfg.DATASETS.TRAIN[0]), scale=1.2)\n",
        "out = v.draw_instance_predictions(outputs[\"instances\"].to(\"cpu\"))\n",
        "cv2_imshow(out.get_image()[:, :, ::-1])"
      ],
      "execution_count": null,
      "outputs": []
    },
    {
      "cell_type": "code",
      "metadata": {
        "id": "roTj1N9F5uJ5"
      },
      "source": [
        "# Inference with a panoptic segmentation model\n",
        "cfg = get_cfg()\n",
        "cfg.merge_from_file(model_zoo.get_config_file(\"COCO-PanopticSegmentation/panoptic_fpn_R_101_3x.yaml\"))\n",
        "cfg.MODEL.WEIGHTS = model_zoo.get_checkpoint_url(\"COCO-PanopticSegmentation/panoptic_fpn_R_101_3x.yaml\")\n",
        "predictor = DefaultPredictor(cfg)\n",
        "panoptic_seg, segments_info = predictor(im)[\"panoptic_seg\"]\n",
        "v = Visualizer(im[:, :, ::-1], MetadataCatalog.get(cfg.DATASETS.TRAIN[0]), scale=1.2)\n",
        "out = v.draw_panoptic_seg_predictions(panoptic_seg.to(\"cpu\"), segments_info)\n",
        "cv2_imshow(out.get_image()[:, :, ::-1])"
      ],
      "execution_count": null,
      "outputs": []
    },
    {
      "cell_type": "markdown",
      "metadata": {
        "id": "hiXadAb9Fv-L"
      },
      "source": [
        "# Run panoptic segmentation on a video"
      ]
    },
    {
      "cell_type": "code",
      "metadata": {
        "colab": {
          "base_uri": "https://localhost:8080/",
          "height": 322
        },
        "id": "YU5_W8wJF02F",
        "outputId": "9187dd9b-3798-4e59-926c-ff10849920c2"
      },
      "source": [
        "# This is the video we're going to process\n",
        "from IPython.display import YouTubeVideo, display\n",
        "video = YouTubeVideo(\"ll8TgCZ0plk\", width=500)\n",
        "display(video)"
      ],
      "execution_count": null,
      "outputs": [
        {
          "output_type": "display_data",
          "data": {
            "image/jpeg": "[encoded data removed]",
            "text/html": [
              "\n",
              "        <iframe\n",
              "            width=\"500\"\n",
              "            height=\"300\"\n",
              "            src=\"https://www.youtube.com/embed/ll8TgCZ0plk\"\n",
              "            frameborder=\"0\"\n",
              "            allowfullscreen\n",
              "        ></iframe>\n",
              "        "
            ],
            "text/plain": [
              "<IPython.lib.display.YouTubeVideo at 0x7f9568ab0710>"
            ]
          },
          "metadata": {
            "tags": []
          }
        }
      ]
    },
    {
      "cell_type": "code",
      "metadata": {
        "id": "a65jM_VFF2Hr"
      },
      "source": [
        "# Install dependencies, download the video, and crop 5 seconds for processing\n",
        "!pip install youtube-dl\n",
        "!pip uninstall -y opencv-python-headless opencv-contrib-python\n",
        "!apt install python3-opencv  # the one pre-installed have some issues\n",
        "!youtube-dl https://www.youtube.com/watch?v=ll8TgCZ0plk -f 22 -o video.mp4\n",
        "!ffmpeg -i video.mp4 -t 00:00:06 -c:v copy video-clip.mp4"
      ],
      "execution_count": null,
      "outputs": []
    },
    {
      "cell_type": "code",
      "metadata": {
        "id": "cyA4VmKcF61k"
      },
      "source": [
        "# Run frame-by-frame inference demo on this video (takes 3-4 minutes) with the \"demo.py\" tool we provided in the repo.\n",
        "!git clone https://github.com/facebookresearch/detectron2\n",
        "!python detectron2/demo/demo.py --config-file detectron2/configs/COCO-PanopticSegmentation/panoptic_fpn_R_101_3x.yaml --video-input video-clip.mp4 --confidence-threshold 0.6 --output video-output.mkv \\\n",
        "  --opts MODEL.WEIGHTS detectron2://COCO-PanopticSegmentation/panoptic_fpn_R_101_3x/139514519/model_final_cafdb1.pkl"
      ],
      "execution_count": null,
      "outputs": []
    },
    {
      "cell_type": "code",
      "metadata": {
        "id": "OpLg_MAQGPUT"
      },
      "source": [
        "# Download the results\n",
        "from google.colab import files\n",
        "files.download('video-output.mkv')"
      ],
      "execution_count": null,
      "outputs": []
    }
  ]
}